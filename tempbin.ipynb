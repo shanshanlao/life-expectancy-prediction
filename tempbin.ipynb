{
 "cells": [
  {
   "cell_type": "code",
   "execution_count": null,
   "metadata": {},
   "outputs": [],
   "source": []
  },
  {
   "cell_type": "code",
   "execution_count": null,
   "metadata": {},
   "outputs": [],
   "source": [
    "from sklearn.impute import KNNImputer, SimpleImputer\n",
    "\n",
    "imputer_knn = KNNImputer(n_neighbors=5)\n",
    "\n",
    "train_num = training_set.select_dtypes(include=[np.number])\n",
    "valid_num = validation_set.select_dtypes(include=[np.number])\n",
    "\n",
    "train_cat = training_set.select_dtypes(include=object)\n",
    "valid_cat = validation_set.select_dtypes(include=object)\n",
    "\n",
    "SimpleImputer(strategy='most_frequent').fit_transform(train_cat)\n",
    "SimpleImputer(strategy='most_frequent').fit_transform(valid_cat)\n",
    "\n",
    "\n",
    "training_imputed[train_num]  = KNNImputer(n_neighbors=5).fit_transform(train_num)\n",
    "validation_imputed[valid_num] = KNNImputer(n_neighbors=5).fit_transform(valid_num)"
   ]
  }
 ],
 "metadata": {
  "language_info": {
   "name": "python"
  },
  "orig_nbformat": 4
 },
 "nbformat": 4,
 "nbformat_minor": 2
}
