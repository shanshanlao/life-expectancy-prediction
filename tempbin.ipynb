{
 "cells": [
  {
   "cell_type": "code",
   "execution_count": null,
   "metadata": {},
   "outputs": [],
   "source": []
  },
  {
   "cell_type": "code",
   "execution_count": null,
   "metadata": {},
   "outputs": [],
   "source": [
    "from sklearn.impute import KNNImputer, SimpleImputer\n",
    "\n",
    "imputer_knn = KNNImputer(n_neighbors=5)\n",
    "\n",
    "train_num = training_set.select_dtypes(include=[np.number])\n",
    "valid_num = validation_set.select_dtypes(include=[np.number])\n",
    "\n",
    "train_cat = training_set.select_dtypes(include=object)\n",
    "valid_cat = validation_set.select_dtypes(include=object)\n",
    "\n",
    "SimpleImputer(strategy='most_frequent').fit_transform(train_cat)\n",
    "SimpleImputer(strategy='most_frequent').fit_transform(valid_cat)\n",
    "\n",
    "\n",
    "training_imputed[train_num]  = KNNImputer(n_neighbors=5).fit_transform(train_num)\n",
    "validation_imputed[valid_num] = KNNImputer(n_neighbors=5).fit_transform(valid_num)"
   ]
  },
  {
   "cell_type": "code",
   "execution_count": null,
   "metadata": {},
   "outputs": [],
   "source": [
    "train_set = train_set.drop(columns={'Country','Thinness 10-19 Years','Under-Five Deaths','Schooling'})\n",
    "test_set = test_set.drop(columns={'Country','Thinness 10-19 Years','Under-Five Deaths','Schooling'})"
   ]
  }
 ],
 "metadata": {
  "kernelspec": {
   "display_name": "Python 3",
   "language": "python",
   "name": "python3"
  },
  "language_info": {
   "name": "python",
   "version": "3.10.8 (tags/v3.10.8:aaaf517, Oct 11 2022, 16:50:30) [MSC v.1933 64 bit (AMD64)]"
  },
  "orig_nbformat": 4,
  "vscode": {
   "interpreter": {
    "hash": "eb8d3085d426e5e8dee3252ffbadecffc2a8c816985f9d79249a1de42c265c0a"
   }
  }
 },
 "nbformat": 4,
 "nbformat_minor": 2
}
